{
  "nbformat": 4,
  "nbformat_minor": 0,
  "metadata": {
    "colab": {
      "name": "Find_Lucky777.ipynb",
      "provenance": []
    },
    "kernelspec": {
      "name": "python3",
      "display_name": "Python 3"
    },
    "language_info": {
      "name": "python"
    }
  },
  "cells": [
    {
      "cell_type": "markdown",
      "metadata": {
        "id": "RaIxC79kavq3"
      },
      "source": [
        "array = [100, 300, 747, 289, 934, 1, 738, 4, 5, 0 ,777, 367, 489]\n",
        "配列を昇順に並べ替え、777の値の番号を返す関数を作成せよ。"
      ]
    },
    {
      "cell_type": "code",
      "metadata": {
        "id": "oZj77gPNaW_X"
      },
      "source": [
        ""
      ],
      "execution_count": null,
      "outputs": []
    }
  ]
}