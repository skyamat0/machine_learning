{
  "nbformat": 4,
  "nbformat_minor": 0,
  "metadata": {
    "colab": {
      "name": "bubblesort_binarysearch.ipynb",
      "provenance": [],
      "collapsed_sections": []
    },
    "kernelspec": {
      "name": "python3",
      "display_name": "Python 3"
    },
    "language_info": {
      "name": "python"
    }
  },
  "cells": [
    {
      "cell_type": "code",
      "metadata": {
        "id": "s8xnqd11CWPp"
      },
      "source": [
        "def binary_search(array, value):\n",
        "  start = 0\n",
        "  end = len(array) - 1\n",
        "  while start <= end:\n",
        "    m = (start + end) // 2\n",
        "    if value == array[m]:\n",
        "      return (m)\n",
        "    elif array[m] < value:\n",
        "      start = m + 1\n",
        "    else:\n",
        "      end = m - 1\n",
        "  return (-1)"
      ],
      "execution_count": 1,
      "outputs": []
    },
    {
      "cell_type": "code",
      "metadata": {
        "id": "pM-xtwTrE_ED"
      },
      "source": [
        "def bubble_sort(array):\n",
        "  i = 0\n",
        "  tmp = 0\n",
        "  while (i < len(array)):\n",
        "    if (i == len(array) - 1):\n",
        "      return (array)\n",
        "    if array[i] > array[i + 1]:\n",
        "      tmp = array[i]\n",
        "      array[i] = array[i + 1]\n",
        "      array[i + 1] = tmp\n",
        "      i = -1\n",
        "    i += 1"
      ],
      "execution_count": 4,
      "outputs": []
    },
    {
      "cell_type": "code",
      "metadata": {
        "colab": {
          "base_uri": "https://localhost:8080/"
        },
        "id": "lsej1N4REFyS",
        "outputId": "eb050975-de69-4261-b949-483bac469894"
      },
      "source": [
        "array = [12,3,6,8,4,5,2,0,4,2]\n",
        "array = bubble_sort(array)\n",
        "print(array)\n",
        "print(binary_search(array, 3))"
      ],
      "execution_count": 6,
      "outputs": [
        {
          "output_type": "stream",
          "text": [
            "[0, 2, 2, 3, 4, 4, 5, 6, 8, 12]\n",
            "3\n"
          ],
          "name": "stdout"
        }
      ]
    }
  ]
}